{
 "cells": [
  {
   "cell_type": "markdown",
   "metadata": {},
   "source": [
    "# Tarefa 01\n",
    "\n",
    "- Leia os enunciados com atenção\n",
    "- Saiba que pode haver mais de uma resposta correta\n",
    "- Insira novas células de código sempre que achar necessário\n",
    "- Em caso de dúvidas, procure os tutores\n",
    "- Divirta-se :)\n",
    "\n",
    "#### 1)  crie uma série do pandas a partir de uma lista com os dados abaixo:\n",
    "\n",
    "Em um estudo sobre alteração na tempreatura global, A NASA disponibiliza dados de diferenças de de temperatura média da superfície terrestre relativos às médias de temperatura entre 1951 e 1980. Os dados originais podem ser vistos no site da NASA/GISS, e estão dispostos a cada década na tabela abaixo.\n",
    "\n",
    "|ano|anomalia termica|\n",
    "|:-:|:----:|\n",
    "| 1900 | -0.08 |\n",
    "| 1920 | -0.27 |\n",
    "| 1940 | 0.12 |\n",
    "| 1960 | -0.03 |\n",
    "| 1980 | 0.26 |\n",
    "| 2000 | 0.40 |\n",
    "| 2020 | 1.02 |\n",
    "\n",
    "Crie uma séries do Pandas a partir de uma lista com esses dados."
   ]
  },
  {
   "cell_type": "code",
   "execution_count": 11,
   "metadata": {},
   "outputs": [
    {
     "name": "stdout",
     "output_type": "stream",
     "text": [
      "1900   -0.08\n",
      "1920   -0.27\n",
      "1940    0.12\n",
      "1960   -0.03\n",
      "1980    0.26\n",
      "2000    0.40\n",
      "2020    1.02\n",
      "dtype: float64\n"
     ]
    }
   ],
   "source": [
    "import pandas as pd\n",
    "import numpy as np\n",
    "\n",
    "# Seu código aqui\n",
    "\n",
    "ano=[1900,1920,1940,1960,1980,2000,2020]\n",
    "a_termica = [-0.08,-0.27,0.12,-0.03,0.26,0.40,1.02]\n",
    "\n",
    "serie1 =pd.Series(data = a_termica, index= ano)\n",
    "print(serie1)\n"
   ]
  },
  {
   "cell_type": "markdown",
   "metadata": {},
   "source": [
    "#### 2) Coloque os anos nos índices conforme a tabela."
   ]
  },
  {
   "cell_type": "code",
   "execution_count": 12,
   "metadata": {},
   "outputs": [
    {
     "name": "stdout",
     "output_type": "stream",
     "text": [
      "1900   -0.08\n",
      "1920   -0.27\n",
      "1940    0.12\n",
      "1960   -0.03\n",
      "1980    0.26\n",
      "2000    0.40\n",
      "2020    1.02\n",
      "dtype: float64\n"
     ]
    }
   ],
   "source": [
    "\n",
    "# seu código aqui\n",
    "import pandas as pd\n",
    "import numpy as np\n",
    "\n",
    "# Seu código aqui\n",
    "\n",
    "ano=[1900,1920,1940,1960,1980,2000,2020]\n",
    "a_termica = [-0.08,-0.27,0.12,-0.03,0.26,0.40,1.02]\n",
    "\n",
    "serie1 =pd.Series(data = a_termica, index= ano)\n",
    "print(serie1)\n"
   ]
  },
  {
   "cell_type": "markdown",
   "metadata": {},
   "source": [
    "#### 3) A partir do dicionário abaixo, crie uma séries do Pandas:"
   ]
  },
  {
   "cell_type": "code",
   "execution_count": 19,
   "metadata": {},
   "outputs": [
    {
     "name": "stdout",
     "output_type": "stream",
     "text": [
      "1900   -0.08\n",
      "1920   -0.27\n",
      "1940    0.12\n",
      "1960   -0.03\n",
      "1980    0.26\n",
      "2000    0.40\n",
      "2020    1.02\n",
      "dtype: float64\n",
      "<class 'pandas.core.series.Series'>\n"
     ]
    }
   ],
   "source": [
    "dic_temperaturas = {1900: -.08, 1920: -.27, 1940: .12, 1960: -.03, 1980: .26, 2000: .40, 2020: 1.02}\n",
    "\n",
    "# seu código aqui\n",
    "Serie2 = pd.Series(dic_temperaturas)\n",
    "print(Serie2)\n",
    "print(type(Serie2))\n",
    "\n"
   ]
  },
  {
   "cell_type": "markdown",
   "metadata": {},
   "source": [
    "#### 4) Transforme o ndarray abaixo em um dataframe. \n",
    "O numpy é capaz de gerar arrays n-dimensionais com números pseudo-aleatórios de acordo com uma variedade de distribuições, como no exemplo abaixo. Transforme esse nd-array em um DataFrame."
   ]
  },
  {
   "cell_type": "code",
   "execution_count": 31,
   "metadata": {},
   "outputs": [
    {
     "name": "stdout",
     "output_type": "stream",
     "text": [
      "             a           b           c\n",
      "0    88.642166  113.237972   97.217283\n",
      "1    97.582479   86.885428   89.153783\n",
      "2   101.301947  106.379888   91.803687\n",
      "3   102.310980  107.254543  110.933878\n",
      "4    77.555912   89.015310  123.106795\n",
      "5    84.393575  111.198212   83.185770\n",
      "6   100.293865  101.212752   92.202496\n",
      "7    88.998783  100.225574  108.307769\n",
      "8   106.867413  110.920442   99.480988\n",
      "9   107.032130  106.289236  124.202113\n",
      "10   96.625506  103.511252   84.412037\n",
      "11  100.894612  105.777338   88.888128\n",
      "12   88.415229   86.000256  104.837549\n",
      "13   86.224395  112.573929   81.990123\n",
      "14  103.216513   96.667714   89.032294\n",
      "15  102.349243  116.226954  101.303878\n",
      "16  106.248101   97.399136   86.220594\n",
      "17  107.144017  112.071869  102.512858\n",
      "18  102.379527   99.819033  105.421512\n",
      "19   92.133932   82.161705  118.733651\n"
     ]
    }
   ],
   "source": [
    "\n",
    "# seu código aqui\n",
    "\n",
    "arr = np.random.normal(100, 10, (20,3))\n",
    "df1 = pd.DataFrame(arr, columns=['a','b','c'])\n",
    "print(df1)"
   ]
  },
  {
   "cell_type": "markdown",
   "metadata": {},
   "source": [
    "#### 5) Nomeie os índices das linhas com inteiros de 1 a 20, e as colunas com os nomes \"x1\", \"x2\", e \"x3\" respectivamente."
   ]
  },
  {
   "cell_type": "code",
   "execution_count": 42,
   "metadata": {},
   "outputs": [
    {
     "name": "stdout",
     "output_type": "stream",
     "text": [
      "            x1          x2          x3\n",
      "1    88.642166  113.237972   97.217283\n",
      "2    97.582479   86.885428   89.153783\n",
      "3   101.301947  106.379888   91.803687\n",
      "4   102.310980  107.254543  110.933878\n",
      "5    77.555912   89.015310  123.106795\n",
      "6    84.393575  111.198212   83.185770\n",
      "7   100.293865  101.212752   92.202496\n",
      "8    88.998783  100.225574  108.307769\n",
      "9   106.867413  110.920442   99.480988\n",
      "10  107.032130  106.289236  124.202113\n",
      "11   96.625506  103.511252   84.412037\n",
      "12  100.894612  105.777338   88.888128\n",
      "13   88.415229   86.000256  104.837549\n",
      "14   86.224395  112.573929   81.990123\n",
      "15  103.216513   96.667714   89.032294\n",
      "16  102.349243  116.226954  101.303878\n",
      "17  106.248101   97.399136   86.220594\n",
      "18  107.144017  112.071869  102.512858\n",
      "19  102.379527   99.819033  105.421512\n",
      "20   92.133932   82.161705  118.733651\n"
     ]
    }
   ],
   "source": [
    "#seu código aqui\n",
    "#df2 = pd.DataFrame(data = arr,index=[1,2,3,4,5,6,7,8,9,10,11,12,13,14,15,16,17,18,19,20], columns =['x1','x2','x3'])\n",
    "df2 = pd.DataFrame(data = arr,index=np.arange(1,21), columns =['x1','x2','x3'])\n",
    "print(df2)\n",
    "\n"
   ]
  },
  {
   "cell_type": "markdown",
   "metadata": {},
   "source": [
    "#### 6) No DataFrame do exercício 5, crie uma nova coluna como sendo a média das três colunas, e dê a ela o nome de \"media\" (não recomendo colocar acentos em nomes de variáveis)."
   ]
  },
  {
   "cell_type": "code",
   "execution_count": 43,
   "metadata": {},
   "outputs": [
    {
     "name": "stdout",
     "output_type": "stream",
     "text": [
      "            x1          x2          x3          x4\n",
      "1    88.642166  113.237972   97.217283   99.699140\n",
      "2    97.582479   86.885428   89.153783   91.207230\n",
      "3   101.301947  106.379888   91.803687   99.828507\n",
      "4   102.310980  107.254543  110.933878  106.833134\n",
      "5    77.555912   89.015310  123.106795   96.559339\n",
      "6    84.393575  111.198212   83.185770   92.925852\n",
      "7   100.293865  101.212752   92.202496   97.903038\n",
      "8    88.998783  100.225574  108.307769   99.177375\n",
      "9   106.867413  110.920442   99.480988  105.756281\n",
      "10  107.032130  106.289236  124.202113  112.507826\n",
      "11   96.625506  103.511252   84.412037   94.849598\n",
      "12  100.894612  105.777338   88.888128   98.520026\n",
      "13   88.415229   86.000256  104.837549   93.084345\n",
      "14   86.224395  112.573929   81.990123   93.596149\n",
      "15  103.216513   96.667714   89.032294   96.305507\n",
      "16  102.349243  116.226954  101.303878  106.626692\n",
      "17  106.248101   97.399136   86.220594   96.622610\n",
      "18  107.144017  112.071869  102.512858  107.242914\n",
      "19  102.379527   99.819033  105.421512  102.540024\n",
      "20   92.133932   82.161705  118.733651   97.676429\n"
     ]
    }
   ],
   "source": [
    "# seu código aqui\n",
    "df2['x4'] = (df2['x1']+df2['x2']+df2['x3'])/3\n",
    "print(df2)"
   ]
  },
  {
   "cell_type": "markdown",
   "metadata": {},
   "source": [
    "#### 7) No DataFrame do exercício 6, crie uma nova coluna chamada \"log_med\", contendo o logaritmo natural da média calculada no exercício 6 <br>"
   ]
  },
  {
   "cell_type": "code",
   "execution_count": 45,
   "metadata": {},
   "outputs": [
    {
     "name": "stdout",
     "output_type": "stream",
     "text": [
      "            x1          x2          x3          x4   log_med\n",
      "1    88.642166  113.237972   97.217283   99.699140  4.602157\n",
      "2    97.582479   86.885428   89.153783   91.207230  4.513134\n",
      "3   101.301947  106.379888   91.803687   99.828507  4.603454\n",
      "4   102.310980  107.254543  110.933878  106.833134  4.671268\n",
      "5    77.555912   89.015310  123.106795   96.559339  4.570158\n",
      "6    84.393575  111.198212   83.185770   92.925852  4.531802\n",
      "7   100.293865  101.212752   92.202496   97.903038  4.583978\n",
      "8    88.998783  100.225574  108.307769   99.177375  4.596910\n",
      "9   106.867413  110.920442   99.480988  105.756281  4.661137\n",
      "10  107.032130  106.289236  124.202113  112.507826  4.723023\n",
      "11   96.625506  103.511252   84.412037   94.849598  4.552292\n",
      "12  100.894612  105.777338   88.888128   98.520026  4.590260\n",
      "13   88.415229   86.000256  104.837549   93.084345  4.533506\n",
      "14   86.224395  112.573929   81.990123   93.596149  4.538989\n",
      "15  103.216513   96.667714   89.032294   96.305507  4.567526\n",
      "16  102.349243  116.226954  101.303878  106.626692  4.669334\n",
      "17  106.248101   97.399136   86.220594   96.622610  4.570813\n",
      "18  107.144017  112.071869  102.512858  107.242914  4.675096\n",
      "19  102.379527   99.819033  105.421512  102.540024  4.630253\n",
      "20   92.133932   82.161705  118.733651   97.676429  4.581660\n"
     ]
    }
   ],
   "source": [
    "# seu código aqui\n",
    "df2['log_med']= np.log(df2['x4'])\n",
    "print(df2)"
   ]
  },
  {
   "cell_type": "code",
   "execution_count": null,
   "metadata": {},
   "outputs": [],
   "source": []
  }
 ],
 "metadata": {
  "kernelspec": {
   "display_name": "Python 3 (ipykernel)",
   "language": "python",
   "name": "python3"
  },
  "language_info": {
   "codemirror_mode": {
    "name": "ipython",
    "version": 3
   },
   "file_extension": ".py",
   "mimetype": "text/x-python",
   "name": "python",
   "nbconvert_exporter": "python",
   "pygments_lexer": "ipython3",
   "version": "3.9.13"
  }
 },
 "nbformat": 4,
 "nbformat_minor": 4
}
